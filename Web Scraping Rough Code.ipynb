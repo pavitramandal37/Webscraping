{
 "cells": [
  {
   "cell_type": "markdown",
   "id": "40742cc5",
   "metadata": {},
   "source": [
    "## Pick a website and describe your objective"
   ]
  },
  {
   "cell_type": "markdown",
   "id": "0bb29072",
   "metadata": {},
   "source": [
    "\n",
    "- Browse through different sites and pick on to scrape. Check the \"Project Ideas\" section for inspiration.\n",
    "\n",
    "- Identify the information you'd like to scrape from the site. Decide the format of the output CSV 0 file.\n",
    "\n",
    "- Summarize your project idea and outline your strategy in a Juptyer notebook. Use the \"New\" button above."
   ]
  },
  {
   "cell_type": "markdown",
   "id": "8d039d63",
   "metadata": {},
   "source": [
    "**Project Outline:**\n",
    "- We're going to scrape https://github.com/topics\n",
    "- We'll get a list of topics. For each topic, we'll get topic title, topic page URL and topic description\n",
    "- For each topic, we'll get the top 25 repositories in the topic from the topic page\n",
    "- For each repository, we'll grab the repo name, username, stars and repo URL\n",
    "- For each topic we'll create a CSV file in the following format:*\n",
    "\n",
    "```\n",
    "Repo Name, Username, Stars, Repo URL\n",
    "three.js, mrdoob, 69700, https://github.com/mrdoob/three.js\n",
    "libgdx, libgdx, 18300, https://github.com/libgdx/libgdx\n",
    "```"
   ]
  },
  {
   "cell_type": "markdown",
   "id": "ca69c211",
   "metadata": {},
   "source": [
    "**1. Use the requests library to download web pages**"
   ]
  },
  {
   "cell_type": "code",
   "execution_count": 7,
   "id": "67fa5a20",
   "metadata": {},
   "outputs": [],
   "source": [
    "# if request library is not installed\n",
    "#!pip install requests --upgrade --quiet"
   ]
  },
  {
   "cell_type": "code",
   "execution_count": 6,
   "id": "fc2152b3",
   "metadata": {},
   "outputs": [],
   "source": [
    "import requests"
   ]
  },
  {
   "cell_type": "code",
   "execution_count": 8,
   "id": "8fe3ea40",
   "metadata": {},
   "outputs": [],
   "source": [
    "topics_url = 'https://github.com/topics'"
   ]
  },
  {
   "cell_type": "code",
   "execution_count": 10,
   "id": "2a2e1f2a",
   "metadata": {},
   "outputs": [
    {
     "data": {
      "text/plain": [
       "200"
      ]
     },
     "execution_count": 10,
     "metadata": {},
     "output_type": "execute_result"
    }
   ],
   "source": [
    "response = requests.get(topics_url)\n",
    "response.status_code                 # If status code is between 200 - 299 then it's succesful responsed"
   ]
  },
  {
   "cell_type": "code",
   "execution_count": 19,
   "id": "fa2e1148",
   "metadata": {},
   "outputs": [],
   "source": [
    "page_contents = response.text                   #html code of this page\n",
    "len(page_contents)"
   ]
  },
  {
   "cell_type": "code",
   "execution_count": 20,
   "id": "e284e985",
   "metadata": {
    "collapsed": true
   },
   "outputs": [
    {
     "ename": "UnicodeEncodeError",
     "evalue": "'charmap' codec can't encode character '\\u21b5' in position 41887: character maps to <undefined>",
     "output_type": "error",
     "traceback": [
      "\u001b[1;31m---------------------------------------------------------------------------\u001b[0m",
      "\u001b[1;31mUnicodeEncodeError\u001b[0m                        Traceback (most recent call last)",
      "\u001b[1;32m<ipython-input-20-d893bb0d4a42>\u001b[0m in \u001b[0;36m<module>\u001b[1;34m\u001b[0m\n\u001b[0;32m      1\u001b[0m \u001b[1;31m# Create static page of the https://github.com/topics\u001b[0m\u001b[1;33m\u001b[0m\u001b[1;33m\u001b[0m\u001b[1;33m\u001b[0m\u001b[0m\n\u001b[0;32m      2\u001b[0m \u001b[1;32mwith\u001b[0m \u001b[0mopen\u001b[0m\u001b[1;33m(\u001b[0m\u001b[1;34m'HTML code of page_contents.html'\u001b[0m\u001b[1;33m,\u001b[0m \u001b[1;34m'w'\u001b[0m\u001b[1;33m)\u001b[0m \u001b[1;32mas\u001b[0m \u001b[0mf\u001b[0m\u001b[1;33m:\u001b[0m\u001b[1;33m\u001b[0m\u001b[1;33m\u001b[0m\u001b[0m\n\u001b[1;32m----> 3\u001b[1;33m     \u001b[0mf\u001b[0m\u001b[1;33m.\u001b[0m\u001b[0mwrite\u001b[0m\u001b[1;33m(\u001b[0m\u001b[0mpage_contents\u001b[0m\u001b[1;33m)\u001b[0m\u001b[1;33m\u001b[0m\u001b[1;33m\u001b[0m\u001b[0m\n\u001b[0m",
      "\u001b[1;32mC:\\ProgramData\\Anaconda3\\lib\\encodings\\cp1252.py\u001b[0m in \u001b[0;36mencode\u001b[1;34m(self, input, final)\u001b[0m\n\u001b[0;32m     17\u001b[0m \u001b[1;32mclass\u001b[0m \u001b[0mIncrementalEncoder\u001b[0m\u001b[1;33m(\u001b[0m\u001b[0mcodecs\u001b[0m\u001b[1;33m.\u001b[0m\u001b[0mIncrementalEncoder\u001b[0m\u001b[1;33m)\u001b[0m\u001b[1;33m:\u001b[0m\u001b[1;33m\u001b[0m\u001b[1;33m\u001b[0m\u001b[0m\n\u001b[0;32m     18\u001b[0m     \u001b[1;32mdef\u001b[0m \u001b[0mencode\u001b[0m\u001b[1;33m(\u001b[0m\u001b[0mself\u001b[0m\u001b[1;33m,\u001b[0m \u001b[0minput\u001b[0m\u001b[1;33m,\u001b[0m \u001b[0mfinal\u001b[0m\u001b[1;33m=\u001b[0m\u001b[1;32mFalse\u001b[0m\u001b[1;33m)\u001b[0m\u001b[1;33m:\u001b[0m\u001b[1;33m\u001b[0m\u001b[1;33m\u001b[0m\u001b[0m\n\u001b[1;32m---> 19\u001b[1;33m         \u001b[1;32mreturn\u001b[0m \u001b[0mcodecs\u001b[0m\u001b[1;33m.\u001b[0m\u001b[0mcharmap_encode\u001b[0m\u001b[1;33m(\u001b[0m\u001b[0minput\u001b[0m\u001b[1;33m,\u001b[0m\u001b[0mself\u001b[0m\u001b[1;33m.\u001b[0m\u001b[0merrors\u001b[0m\u001b[1;33m,\u001b[0m\u001b[0mencoding_table\u001b[0m\u001b[1;33m)\u001b[0m\u001b[1;33m[\u001b[0m\u001b[1;36m0\u001b[0m\u001b[1;33m]\u001b[0m\u001b[1;33m\u001b[0m\u001b[1;33m\u001b[0m\u001b[0m\n\u001b[0m\u001b[0;32m     20\u001b[0m \u001b[1;33m\u001b[0m\u001b[0m\n\u001b[0;32m     21\u001b[0m \u001b[1;32mclass\u001b[0m \u001b[0mIncrementalDecoder\u001b[0m\u001b[1;33m(\u001b[0m\u001b[0mcodecs\u001b[0m\u001b[1;33m.\u001b[0m\u001b[0mIncrementalDecoder\u001b[0m\u001b[1;33m)\u001b[0m\u001b[1;33m:\u001b[0m\u001b[1;33m\u001b[0m\u001b[1;33m\u001b[0m\u001b[0m\n",
      "\u001b[1;31mUnicodeEncodeError\u001b[0m: 'charmap' codec can't encode character '\\u21b5' in position 41887: character maps to <undefined>"
     ]
    }
   ],
   "source": [
    "# Create static page of the https://github.com/topics\n",
    "with open('HTML code of page_contents.html', 'w') as f:\n",
    "    f.write(page_contents)"
   ]
  },
  {
   "cell_type": "markdown",
   "id": "290e9f5a",
   "metadata": {},
   "source": [
    "**2. Use Beautiful Soup to parse and extract information**"
   ]
  },
  {
   "cell_type": "code",
   "execution_count": 21,
   "id": "43cb006d",
   "metadata": {},
   "outputs": [],
   "source": [
    "#!pip install beautifulsoup4 --upgrade --quiet"
   ]
  },
  {
   "cell_type": "code",
   "execution_count": 22,
   "id": "cb913ad3",
   "metadata": {},
   "outputs": [],
   "source": [
    "from bs4 import BeautifulSoup"
   ]
  },
  {
   "cell_type": "code",
   "execution_count": 23,
   "id": "cf3b2428",
   "metadata": {},
   "outputs": [],
   "source": [
    "doc = BeautifulSoup(page_contents, 'html.parser')"
   ]
  },
  {
   "cell_type": "markdown",
   "id": "12144937",
   "metadata": {},
   "source": [
    "*-- list all topics*"
   ]
  },
  {
   "cell_type": "code",
   "execution_count": 122,
   "id": "e1367f3e",
   "metadata": {},
   "outputs": [],
   "source": [
    "topic_selection_class = 'f3 lh-condensed mb-0 mt-1 Link--primary'\n",
    "topic_title_tags = doc.find_all('p', {'class': topic_selection_class})\n",
    "topic_titles = []\n",
    "for tag in topic_title_tags:\n",
    "    topic_titles.append(tag.text)\n",
    "    \n",
    "#topic_titles"
   ]
  },
  {
   "cell_type": "markdown",
   "id": "c03db0ad",
   "metadata": {},
   "source": [
    "*-- list all description of the title*"
   ]
  },
  {
   "cell_type": "code",
   "execution_count": 124,
   "id": "4a7157ca",
   "metadata": {},
   "outputs": [],
   "source": [
    "desc_selection_class = 'f5 color-fg-muted mb-0 mt-1'\n",
    "topic_desc_tags = doc.find_all('p', {'class': desc_selection_class})\n",
    "topic_descs = []\n",
    "for tag in topic_desc_tags:\n",
    "    topic_descs.append(tag.text.strip())\n",
    "    \n",
    "#topic_descs"
   ]
  },
  {
   "cell_type": "markdown",
   "id": "d7340aec",
   "metadata": {},
   "source": [
    "*-- list of all topic links*"
   ]
  },
  {
   "cell_type": "code",
   "execution_count": 126,
   "id": "f4213e46",
   "metadata": {},
   "outputs": [],
   "source": [
    "link_selection_class = 'no-underline flex-1 d-flex flex-column'\n",
    "topic_link_tags = doc.find_all('a', {'class': link_selection_class})\n",
    "topic_urls = []\n",
    "base_url = 'https://github.com'\n",
    "for i in range(len(topic_titles)):\n",
    "    topic_urls.append(base_url + topic_link_tags[i]['href'])\n",
    "    \n",
    "#topic_urls"
   ]
  },
  {
   "cell_type": "code",
   "execution_count": 127,
   "id": "ef6c0950",
   "metadata": {},
   "outputs": [],
   "source": [
    "import pandas as pd"
   ]
  },
  {
   "cell_type": "code",
   "execution_count": 128,
   "id": "ced4e2c3",
   "metadata": {},
   "outputs": [],
   "source": [
    "topics_dict = {\n",
    "    'title': topic_titles,\n",
    "    'description': topic_descs,\n",
    "    'url': topic_urls\n",
    "}"
   ]
  },
  {
   "cell_type": "code",
   "execution_count": 135,
   "id": "ab3be0c0",
   "metadata": {},
   "outputs": [],
   "source": [
    "topics_df = pd.DataFrame(topics_dict)"
   ]
  },
  {
   "cell_type": "code",
   "execution_count": 299,
   "id": "0a8f0404",
   "metadata": {},
   "outputs": [],
   "source": [
    "topics_df.to_csv('topics.csv', index=None)"
   ]
  },
  {
   "cell_type": "markdown",
   "id": "4837ff4e",
   "metadata": {},
   "source": [
    " "
   ]
  },
  {
   "cell_type": "markdown",
   "id": "ec22025d",
   "metadata": {},
   "source": [
    "**3. Getting information out of a topic page**"
   ]
  },
  {
   "cell_type": "code",
   "execution_count": 137,
   "id": "6d35a8cd",
   "metadata": {},
   "outputs": [],
   "source": [
    "topic_page_url = topic_urls[0]"
   ]
  },
  {
   "cell_type": "code",
   "execution_count": 138,
   "id": "71af0a22",
   "metadata": {},
   "outputs": [
    {
     "data": {
      "text/plain": [
       "'https://github.com/topics/3d'"
      ]
     },
     "execution_count": 138,
     "metadata": {},
     "output_type": "execute_result"
    }
   ],
   "source": [
    "topic_page_url"
   ]
  },
  {
   "cell_type": "code",
   "execution_count": 140,
   "id": "cb5141d2",
   "metadata": {},
   "outputs": [
    {
     "data": {
      "text/plain": [
       "200"
      ]
     },
     "execution_count": 140,
     "metadata": {},
     "output_type": "execute_result"
    }
   ],
   "source": [
    "response = requests.get(topic_page_url)\n",
    "response.status_code"
   ]
  },
  {
   "cell_type": "code",
   "execution_count": 141,
   "id": "50a9d409",
   "metadata": {},
   "outputs": [],
   "source": [
    "topic_doc = BeautifulSoup(response.text, 'html.parser')"
   ]
  },
  {
   "cell_type": "code",
   "execution_count": 146,
   "id": "e61c4c59",
   "metadata": {},
   "outputs": [],
   "source": [
    "h3_selection_class = 'f3 color-fg-muted text-normal lh-condensed'\n",
    "repo_tags = topic_doc.find_all('h3', {'class': h3_selection_class} )"
   ]
  },
  {
   "cell_type": "code",
   "execution_count": 147,
   "id": "26c05ed0",
   "metadata": {},
   "outputs": [
    {
     "data": {
      "text/plain": [
       "<h3 class=\"f3 color-fg-muted text-normal lh-condensed\">\n",
       "<a data-ga-click=\"Explore, go to repository owner, location:explore feed\" data-hydro-click='{\"event_type\":\"explore.click\",\"payload\":{\"click_context\":\"REPOSITORY_CARD\",\"click_target\":\"OWNER\",\"click_visual_representation\":\"REPOSITORY_OWNER_HEADING\",\"actor_id\":null,\"record_id\":97088,\"originating_url\":\"https://github.com/topics/3d\",\"user_id\":null}}' data-hydro-click-hmac=\"4bdbc49d3c05ae7f70b531fbce709a384200b0768554e0172950286a8db30940\" data-turbo=\"false\" data-view-component=\"true\" href=\"/mrdoob\">\n",
       "            mrdoob\n",
       "</a>          /\n",
       "          <a class=\"text-bold wb-break-word\" data-ga-click=\"Explore, go to repository, location:explore feed\" data-hydro-click='{\"event_type\":\"explore.click\",\"payload\":{\"click_context\":\"REPOSITORY_CARD\",\"click_target\":\"REPOSITORY\",\"click_visual_representation\":\"REPOSITORY_NAME_HEADING\",\"actor_id\":null,\"record_id\":576201,\"originating_url\":\"https://github.com/topics/3d\",\"user_id\":null}}' data-hydro-click-hmac=\"517d3d5cb9d89752156923904a4238816bc9b51ab7772f3e3644ce897d8dd4e5\" data-turbo=\"false\" data-view-component=\"true\" href=\"/mrdoob/three.js\">\n",
       "            three.js\n",
       "</a> </h3>"
      ]
     },
     "execution_count": 147,
     "metadata": {},
     "output_type": "execute_result"
    }
   ],
   "source": [
    "repo_tags[0]"
   ]
  },
  {
   "cell_type": "code",
   "execution_count": 148,
   "id": "13ee6e20",
   "metadata": {},
   "outputs": [
    {
     "data": {
      "text/plain": [
       "30"
      ]
     },
     "execution_count": 148,
     "metadata": {},
     "output_type": "execute_result"
    }
   ],
   "source": [
    "len(repo_tags)"
   ]
  },
  {
   "cell_type": "code",
   "execution_count": 152,
   "id": "675d5373",
   "metadata": {
    "collapsed": true
   },
   "outputs": [
    {
     "data": {
      "text/plain": [
       "[<a data-ga-click=\"Explore, go to repository owner, location:explore feed\" data-hydro-click='{\"event_type\":\"explore.click\",\"payload\":{\"click_context\":\"REPOSITORY_CARD\",\"click_target\":\"OWNER\",\"click_visual_representation\":\"REPOSITORY_OWNER_HEADING\",\"actor_id\":null,\"record_id\":97088,\"originating_url\":\"https://github.com/topics/3d\",\"user_id\":null}}' data-hydro-click-hmac=\"4bdbc49d3c05ae7f70b531fbce709a384200b0768554e0172950286a8db30940\" data-turbo=\"false\" data-view-component=\"true\" href=\"/mrdoob\">\n",
       "             mrdoob\n",
       " </a>,\n",
       " <a class=\"text-bold wb-break-word\" data-ga-click=\"Explore, go to repository, location:explore feed\" data-hydro-click='{\"event_type\":\"explore.click\",\"payload\":{\"click_context\":\"REPOSITORY_CARD\",\"click_target\":\"REPOSITORY\",\"click_visual_representation\":\"REPOSITORY_NAME_HEADING\",\"actor_id\":null,\"record_id\":576201,\"originating_url\":\"https://github.com/topics/3d\",\"user_id\":null}}' data-hydro-click-hmac=\"517d3d5cb9d89752156923904a4238816bc9b51ab7772f3e3644ce897d8dd4e5\" data-turbo=\"false\" data-view-component=\"true\" href=\"/mrdoob/three.js\">\n",
       "             three.js\n",
       " </a>]"
      ]
     },
     "execution_count": 152,
     "metadata": {},
     "output_type": "execute_result"
    }
   ],
   "source": [
    "a_tags = repo_tags[0].find_all('a')\n",
    "a_tags"
   ]
  },
  {
   "cell_type": "code",
   "execution_count": 150,
   "id": "aaa07718",
   "metadata": {},
   "outputs": [
    {
     "data": {
      "text/plain": [
       "'mrdoob'"
      ]
     },
     "execution_count": 150,
     "metadata": {},
     "output_type": "execute_result"
    }
   ],
   "source": [
    "a_tags[0].text.strip()"
   ]
  },
  {
   "cell_type": "code",
   "execution_count": 151,
   "id": "20488711",
   "metadata": {},
   "outputs": [
    {
     "data": {
      "text/plain": [
       "'three.js'"
      ]
     },
     "execution_count": 151,
     "metadata": {},
     "output_type": "execute_result"
    }
   ],
   "source": [
    "a_tags[1].text.strip()"
   ]
  },
  {
   "cell_type": "code",
   "execution_count": 155,
   "id": "15652b68",
   "metadata": {},
   "outputs": [
    {
     "name": "stdout",
     "output_type": "stream",
     "text": [
      "https://github.com/mrdoob/three.js\n"
     ]
    }
   ],
   "source": [
    "base_url = 'https://github.com'\n",
    "repo_url = base_url + a_tags[1]['href']\n",
    "print(repo_url)"
   ]
  },
  {
   "cell_type": "code",
   "execution_count": 164,
   "id": "05b5e2f1",
   "metadata": {},
   "outputs": [
    {
     "data": {
      "text/plain": [
       "'83.5k'"
      ]
     },
     "execution_count": 164,
     "metadata": {},
     "output_type": "execute_result"
    }
   ],
   "source": [
    "star_tags = topic_doc.find_all('span', { 'class': 'Counter js-social-count'})\n",
    "star_tags[0].text"
   ]
  },
  {
   "cell_type": "markdown",
   "id": "4f5facda",
   "metadata": {},
   "source": [
    "### Create function for count of star"
   ]
  },
  {
   "cell_type": "code",
   "execution_count": 199,
   "id": "272d3ad7",
   "metadata": {},
   "outputs": [
    {
     "data": {
      "text/plain": [
       "83500"
      ]
     },
     "execution_count": 199,
     "metadata": {},
     "output_type": "execute_result"
    }
   ],
   "source": [
    "def parse_star_counts(star_str):\n",
    "    star_str = star_str.strip()\n",
    "    if star_str[-1] == 'k':\n",
    "        return int(float(star_str[:-1]) * 1000)\n",
    "    return int(star_str)\n",
    "\n",
    "parse_star_counts(star_tags[0].text)"
   ]
  },
  {
   "cell_type": "markdown",
   "id": "06513fc0",
   "metadata": {},
   "source": [
    "### Create function for repository information"
   ]
  },
  {
   "cell_type": "code",
   "execution_count": 209,
   "id": "0bc03053",
   "metadata": {},
   "outputs": [
    {
     "data": {
      "text/plain": [
       "('mrdoob', 'three.js', 83500, 'https://github.com/mrdoob/three.js')"
      ]
     },
     "execution_count": 209,
     "metadata": {},
     "output_type": "execute_result"
    }
   ],
   "source": [
    "def get_repo_info(h3_tag, star_tag):\n",
    "    a_tag = h3_tag.find_all('a')        # find all a tag from h3_tag where h3_tag=repo_tags[..]\n",
    "    user_name  = a_tag[0].text.strip()   \n",
    "    repo_name = a_tag[1].text.strip()\n",
    "    stars     = parse_star_counts(star_tag.text)\n",
    "    base_url  = 'https://github.com'\n",
    "    repo_url  = base_url + a_tag[1]['href']\n",
    "    return user_name, repo_name, stars, repo_url\n",
    "\n",
    "parse_repo_info(repo_tags[0],star_tags[0])"
   ]
  },
  {
   "cell_type": "code",
   "execution_count": 210,
   "id": "5c601a8f",
   "metadata": {},
   "outputs": [],
   "source": [
    "topic_repos_dict = {\n",
    "    'username': [],\n",
    "    'repo_name': [],\n",
    "    'stars': [],\n",
    "    'repo_url': []\n",
    "}\n",
    "\n",
    "\n",
    "for i in range(len(repo_tags)):\n",
    "    repo_info = get_repo_info(repo_tags[i], star_tags[i])\n",
    "    topic_repos_dict['username'].append(repo_info[0])\n",
    "    topic_repos_dict['repo_name'].append(repo_info[1])\n",
    "    topic_repos_dict['stars'].append(repo_info[2])\n",
    "    topic_repos_dict['repo_url'].append(repo_info[3])"
   ]
  },
  {
   "cell_type": "markdown",
   "id": "5e0a554b",
   "metadata": {},
   "source": [
    "### Create function for selected topic and get repository info of that topic"
   ]
  },
  {
   "cell_type": "code",
   "execution_count": 335,
   "id": "cfb3c36b",
   "metadata": {},
   "outputs": [],
   "source": [
    "import os\n",
    "\n",
    "def get_topic_page(topic_url):\n",
    "    # Download the page\n",
    "    response = requests.get(topic_url)\n",
    "    # Check successful response\n",
    "    if response.status_code != 200:\n",
    "        raise Exception('Failed to load page {}'.format(topic_url))\n",
    "    # Parse using Beautiful soup\n",
    "    topic_doc = BeautifulSoup(response.text, 'html.parser')\n",
    "    return topic_doc\n",
    "\n",
    "def get_repo_info(h3_tag, star_tag):\n",
    "    a_tag = h3_tag.find_all('a')        # find all a tag from h3_tag where h3_tag=repo_tags[..]\n",
    "    user_name  = a_tag[0].text.strip()   \n",
    "    repo_name = a_tag[1].text.strip()\n",
    "    stars     = parse_star_counts(star_tag.text.strip())\n",
    "    base_url  = 'https://github.com'\n",
    "    repo_url  = base_url + a_tag[1]['href']\n",
    "    return user_name, repo_name, stars, repo_url\n",
    "\n",
    "def get_topic_repos(topic_doc):\n",
    "    \n",
    "    # Get h3_tag repo\n",
    "    h3_selection_class = 'f3 color-fg-muted text-normal lh-condensed'\n",
    "    repo_tags = topic_doc.find_all('h3', {'class': h3_selection_class} )\n",
    "    \n",
    "    # Get star_tag\n",
    "    star_tags = topic_doc.find_all('span', { 'class': 'Counter js-social-count'})\n",
    "    \n",
    "    # Get repo info\n",
    "    topic_repos_dict = {\n",
    "    'username': [],\n",
    "    'repo_name': [],\n",
    "    'stars': [],\n",
    "    'repo_url': []}\n",
    "    \n",
    "    for i in range(len(repo_tags)):\n",
    "        repo_info = get_repo_info(repo_tags[i], star_tags[i])\n",
    "        topic_repos_dict['username'].append(repo_info[0])\n",
    "        topic_repos_dict['repo_name'].append(repo_info[1])\n",
    "        topic_repos_dict['stars'].append(repo_info[2])\n",
    "        topic_repos_dict['repo_url'].append(repo_info[3])\n",
    "    return pd.DataFrame(topic_repos_dict)\n",
    "\n",
    "def scrape_topic_content(topic_urls, path):\n",
    "    # print this when repository file already exists\n",
    "    if os.path.exists(path):\n",
    "        print(\"The file {} already exists. Skipping...\".format(path))\n",
    "        return\n",
    "    #save csv file of top repository with information\n",
    "    topic_content_df = get_topic_repos(get_topic_page(topic_urls))\n",
    "    topic_content_df.to_csv(path, index=None)                      "
   ]
  },
  {
   "cell_type": "code",
   "execution_count": 336,
   "id": "636b3918",
   "metadata": {},
   "outputs": [
    {
     "data": {
      "text/plain": [
       "'https://github.com/topics/angular'"
      ]
     },
     "execution_count": 336,
     "metadata": {},
     "output_type": "execute_result"
    }
   ],
   "source": [
    "topic_urls[5]"
   ]
  },
  {
   "cell_type": "code",
   "execution_count": 319,
   "id": "9e975755",
   "metadata": {
    "collapsed": true
   },
   "outputs": [
    {
     "data": {
      "text/html": [
       "<div>\n",
       "<style scoped>\n",
       "    .dataframe tbody tr th:only-of-type {\n",
       "        vertical-align: middle;\n",
       "    }\n",
       "\n",
       "    .dataframe tbody tr th {\n",
       "        vertical-align: top;\n",
       "    }\n",
       "\n",
       "    .dataframe thead th {\n",
       "        text-align: right;\n",
       "    }\n",
       "</style>\n",
       "<table border=\"1\" class=\"dataframe\">\n",
       "  <thead>\n",
       "    <tr style=\"text-align: right;\">\n",
       "      <th></th>\n",
       "      <th>username</th>\n",
       "      <th>repo_name</th>\n",
       "      <th>stars</th>\n",
       "      <th>repo_url</th>\n",
       "    </tr>\n",
       "  </thead>\n",
       "  <tbody>\n",
       "    <tr>\n",
       "      <th>0</th>\n",
       "      <td>justjavac</td>\n",
       "      <td>free-programming-books-zh_CN</td>\n",
       "      <td>94200</td>\n",
       "      <td>https://github.com/justjavac/free-programming-...</td>\n",
       "    </tr>\n",
       "    <tr>\n",
       "      <th>1</th>\n",
       "      <td>angular</td>\n",
       "      <td>angular</td>\n",
       "      <td>82600</td>\n",
       "      <td>https://github.com/angular/angular</td>\n",
       "    </tr>\n",
       "    <tr>\n",
       "      <th>2</th>\n",
       "      <td>storybookjs</td>\n",
       "      <td>storybook</td>\n",
       "      <td>72600</td>\n",
       "      <td>https://github.com/storybookjs/storybook</td>\n",
       "    </tr>\n",
       "    <tr>\n",
       "      <th>3</th>\n",
       "      <td>leonardomso</td>\n",
       "      <td>33-js-concepts</td>\n",
       "      <td>49900</td>\n",
       "      <td>https://github.com/leonardomso/33-js-concepts</td>\n",
       "    </tr>\n",
       "    <tr>\n",
       "      <th>4</th>\n",
       "      <td>ionic-team</td>\n",
       "      <td>ionic-framework</td>\n",
       "      <td>47600</td>\n",
       "      <td>https://github.com/ionic-team/ionic-framework</td>\n",
       "    </tr>\n",
       "    <tr>\n",
       "      <th>5</th>\n",
       "      <td>prettier</td>\n",
       "      <td>prettier</td>\n",
       "      <td>43300</td>\n",
       "      <td>https://github.com/prettier/prettier</td>\n",
       "    </tr>\n",
       "    <tr>\n",
       "      <th>6</th>\n",
       "      <td>SheetJS</td>\n",
       "      <td>sheetjs</td>\n",
       "      <td>30600</td>\n",
       "      <td>https://github.com/SheetJS/sheetjs</td>\n",
       "    </tr>\n",
       "    <tr>\n",
       "      <th>7</th>\n",
       "      <td>angular</td>\n",
       "      <td>angular-cli</td>\n",
       "      <td>25500</td>\n",
       "      <td>https://github.com/angular/angular-cli</td>\n",
       "    </tr>\n",
       "    <tr>\n",
       "      <th>8</th>\n",
       "      <td>angular</td>\n",
       "      <td>components</td>\n",
       "      <td>22800</td>\n",
       "      <td>https://github.com/angular/components</td>\n",
       "    </tr>\n",
       "    <tr>\n",
       "      <th>9</th>\n",
       "      <td>NativeScript</td>\n",
       "      <td>NativeScript</td>\n",
       "      <td>21400</td>\n",
       "      <td>https://github.com/NativeScript/NativeScript</td>\n",
       "    </tr>\n",
       "    <tr>\n",
       "      <th>10</th>\n",
       "      <td>jhipster</td>\n",
       "      <td>generator-jhipster</td>\n",
       "      <td>19700</td>\n",
       "      <td>https://github.com/jhipster/generator-jhipster</td>\n",
       "    </tr>\n",
       "    <tr>\n",
       "      <th>11</th>\n",
       "      <td>goldbergyoni</td>\n",
       "      <td>javascript-testing-best-practices</td>\n",
       "      <td>18100</td>\n",
       "      <td>https://github.com/goldbergyoni/javascript-tes...</td>\n",
       "    </tr>\n",
       "    <tr>\n",
       "      <th>12</th>\n",
       "      <td>pubkey</td>\n",
       "      <td>rxdb</td>\n",
       "      <td>17700</td>\n",
       "      <td>https://github.com/pubkey/rxdb</td>\n",
       "    </tr>\n",
       "    <tr>\n",
       "      <th>13</th>\n",
       "      <td>handsontable</td>\n",
       "      <td>handsontable</td>\n",
       "      <td>16800</td>\n",
       "      <td>https://github.com/handsontable/handsontable</td>\n",
       "    </tr>\n",
       "    <tr>\n",
       "      <th>14</th>\n",
       "      <td>teambit</td>\n",
       "      <td>bit</td>\n",
       "      <td>15400</td>\n",
       "      <td>https://github.com/teambit/bit</td>\n",
       "    </tr>\n",
       "    <tr>\n",
       "      <th>15</th>\n",
       "      <td>sweetalert2</td>\n",
       "      <td>sweetalert2</td>\n",
       "      <td>14700</td>\n",
       "      <td>https://github.com/sweetalert2/sweetalert2</td>\n",
       "    </tr>\n",
       "    <tr>\n",
       "      <th>16</th>\n",
       "      <td>nrwl</td>\n",
       "      <td>nx</td>\n",
       "      <td>13500</td>\n",
       "      <td>https://github.com/nrwl/nx</td>\n",
       "    </tr>\n",
       "    <tr>\n",
       "      <th>17</th>\n",
       "      <td>linnovate</td>\n",
       "      <td>mean</td>\n",
       "      <td>12200</td>\n",
       "      <td>https://github.com/linnovate/mean</td>\n",
       "    </tr>\n",
       "    <tr>\n",
       "      <th>18</th>\n",
       "      <td>codesandbox</td>\n",
       "      <td>codesandbox-client</td>\n",
       "      <td>11700</td>\n",
       "      <td>https://github.com/codesandbox/codesandbox-client</td>\n",
       "    </tr>\n",
       "    <tr>\n",
       "      <th>19</th>\n",
       "      <td>Chocobozzz</td>\n",
       "      <td>PeerTube</td>\n",
       "      <td>10800</td>\n",
       "      <td>https://github.com/Chocobozzz/PeerTube</td>\n",
       "    </tr>\n",
       "    <tr>\n",
       "      <th>20</th>\n",
       "      <td>sudheerj</td>\n",
       "      <td>javascript-interview-questions</td>\n",
       "      <td>10900</td>\n",
       "      <td>https://github.com/sudheerj/javascript-intervi...</td>\n",
       "    </tr>\n",
       "    <tr>\n",
       "      <th>21</th>\n",
       "      <td>PatrickJS</td>\n",
       "      <td>angular-starter</td>\n",
       "      <td>10400</td>\n",
       "      <td>https://github.com/PatrickJS/angular-starter</td>\n",
       "    </tr>\n",
       "    <tr>\n",
       "      <th>22</th>\n",
       "      <td>dotansimha</td>\n",
       "      <td>graphql-code-generator</td>\n",
       "      <td>8900</td>\n",
       "      <td>https://github.com/dotansimha/graphql-code-gen...</td>\n",
       "    </tr>\n",
       "    <tr>\n",
       "      <th>23</th>\n",
       "      <td>jasontaylordev</td>\n",
       "      <td>CleanArchitecture</td>\n",
       "      <td>9000</td>\n",
       "      <td>https://github.com/jasontaylordev/CleanArchite...</td>\n",
       "    </tr>\n",
       "    <tr>\n",
       "      <th>24</th>\n",
       "      <td>ag-grid</td>\n",
       "      <td>ag-grid</td>\n",
       "      <td>8900</td>\n",
       "      <td>https://github.com/ag-grid/ag-grid</td>\n",
       "    </tr>\n",
       "    <tr>\n",
       "      <th>25</th>\n",
       "      <td>angular</td>\n",
       "      <td>protractor</td>\n",
       "      <td>8800</td>\n",
       "      <td>https://github.com/angular/protractor</td>\n",
       "    </tr>\n",
       "    <tr>\n",
       "      <th>26</th>\n",
       "      <td>OnsenUI</td>\n",
       "      <td>OnsenUI</td>\n",
       "      <td>8600</td>\n",
       "      <td>https://github.com/OnsenUI/OnsenUI</td>\n",
       "    </tr>\n",
       "    <tr>\n",
       "      <th>27</th>\n",
       "      <td>PatrickJS</td>\n",
       "      <td>awesome-angular</td>\n",
       "      <td>8400</td>\n",
       "      <td>https://github.com/PatrickJS/awesome-angular</td>\n",
       "    </tr>\n",
       "    <tr>\n",
       "      <th>28</th>\n",
       "      <td>wailsapp</td>\n",
       "      <td>wails</td>\n",
       "      <td>8300</td>\n",
       "      <td>https://github.com/wailsapp/wails</td>\n",
       "    </tr>\n",
       "    <tr>\n",
       "      <th>29</th>\n",
       "      <td>abpframework</td>\n",
       "      <td>abp</td>\n",
       "      <td>8300</td>\n",
       "      <td>https://github.com/abpframework/abp</td>\n",
       "    </tr>\n",
       "  </tbody>\n",
       "</table>\n",
       "</div>"
      ],
      "text/plain": [
       "          username                          repo_name  stars  \\\n",
       "0        justjavac       free-programming-books-zh_CN  94200   \n",
       "1          angular                            angular  82600   \n",
       "2      storybookjs                          storybook  72600   \n",
       "3      leonardomso                     33-js-concepts  49900   \n",
       "4       ionic-team                    ionic-framework  47600   \n",
       "5         prettier                           prettier  43300   \n",
       "6          SheetJS                            sheetjs  30600   \n",
       "7          angular                        angular-cli  25500   \n",
       "8          angular                         components  22800   \n",
       "9     NativeScript                       NativeScript  21400   \n",
       "10        jhipster                 generator-jhipster  19700   \n",
       "11    goldbergyoni  javascript-testing-best-practices  18100   \n",
       "12          pubkey                               rxdb  17700   \n",
       "13    handsontable                       handsontable  16800   \n",
       "14         teambit                                bit  15400   \n",
       "15     sweetalert2                        sweetalert2  14700   \n",
       "16            nrwl                                 nx  13500   \n",
       "17       linnovate                               mean  12200   \n",
       "18     codesandbox                 codesandbox-client  11700   \n",
       "19      Chocobozzz                           PeerTube  10800   \n",
       "20        sudheerj     javascript-interview-questions  10900   \n",
       "21       PatrickJS                    angular-starter  10400   \n",
       "22      dotansimha             graphql-code-generator   8900   \n",
       "23  jasontaylordev                  CleanArchitecture   9000   \n",
       "24         ag-grid                            ag-grid   8900   \n",
       "25         angular                         protractor   8800   \n",
       "26         OnsenUI                            OnsenUI   8600   \n",
       "27       PatrickJS                    awesome-angular   8400   \n",
       "28        wailsapp                              wails   8300   \n",
       "29    abpframework                                abp   8300   \n",
       "\n",
       "                                             repo_url  \n",
       "0   https://github.com/justjavac/free-programming-...  \n",
       "1                  https://github.com/angular/angular  \n",
       "2            https://github.com/storybookjs/storybook  \n",
       "3       https://github.com/leonardomso/33-js-concepts  \n",
       "4       https://github.com/ionic-team/ionic-framework  \n",
       "5                https://github.com/prettier/prettier  \n",
       "6                  https://github.com/SheetJS/sheetjs  \n",
       "7              https://github.com/angular/angular-cli  \n",
       "8               https://github.com/angular/components  \n",
       "9        https://github.com/NativeScript/NativeScript  \n",
       "10     https://github.com/jhipster/generator-jhipster  \n",
       "11  https://github.com/goldbergyoni/javascript-tes...  \n",
       "12                     https://github.com/pubkey/rxdb  \n",
       "13       https://github.com/handsontable/handsontable  \n",
       "14                     https://github.com/teambit/bit  \n",
       "15         https://github.com/sweetalert2/sweetalert2  \n",
       "16                         https://github.com/nrwl/nx  \n",
       "17                  https://github.com/linnovate/mean  \n",
       "18  https://github.com/codesandbox/codesandbox-client  \n",
       "19             https://github.com/Chocobozzz/PeerTube  \n",
       "20  https://github.com/sudheerj/javascript-intervi...  \n",
       "21       https://github.com/PatrickJS/angular-starter  \n",
       "22  https://github.com/dotansimha/graphql-code-gen...  \n",
       "23  https://github.com/jasontaylordev/CleanArchite...  \n",
       "24                 https://github.com/ag-grid/ag-grid  \n",
       "25              https://github.com/angular/protractor  \n",
       "26                 https://github.com/OnsenUI/OnsenUI  \n",
       "27       https://github.com/PatrickJS/awesome-angular  \n",
       "28                  https://github.com/wailsapp/wails  \n",
       "29                https://github.com/abpframework/abp  "
      ]
     },
     "execution_count": 319,
     "metadata": {},
     "output_type": "execute_result"
    }
   ],
   "source": [
    "get_topic_repos(get_topic_page(topic_urls[5]))"
   ]
  },
  {
   "cell_type": "markdown",
   "id": "85fb66de",
   "metadata": {},
   "source": [
    "\n",
    "### Write a single function to :\n",
    "1. Get the list of topics from the topics page\n",
    "2. Get the list of top repos from the individual topic pages\n",
    "3. For each topic, create a CSV of the top repos for the topic\n",
    "\n"
   ]
  },
  {
   "cell_type": "code",
   "execution_count": 349,
   "id": "9127c0a2",
   "metadata": {},
   "outputs": [],
   "source": [
    "def topic_tittle_tag(doc):\n",
    "    topic_selection_class = 'f3 lh-condensed mb-0 mt-1 Link--primary'\n",
    "    topic_title_tags = doc.find_all('p', {'class': topic_selection_class})\n",
    "    topic_titles = []\n",
    "    for tag in topic_title_tags:\n",
    "        topic_titles.append(tag.text)\n",
    "    return topic_titles\n",
    "\n",
    "def topic_descs_tag(doc):\n",
    "    desc_selection_class = 'f5 color-fg-muted mb-0 mt-1'\n",
    "    topic_desc_tags = doc.find_all('p', {'class': desc_selection_class})\n",
    "    topic_descs = []\n",
    "    for tag in topic_desc_tags:\n",
    "        topic_descs.append(tag.text.strip())\n",
    "    return topic_descs\n",
    "\n",
    "def topic_urls_tag(doc):\n",
    "    link_selection_class = 'no-underline flex-1 d-flex flex-column'\n",
    "    topic_link_tags = doc.find_all('a', {'class': link_selection_class})\n",
    "    topic_urls = []\n",
    "    base_url = 'https://github.com'\n",
    "    for i in range(len(topic_titles)):\n",
    "        topic_urls.append(base_url + topic_link_tags[i]['href'])\n",
    "    return topic_urls\n",
    "\n",
    "def scrape_topics():\n",
    "    topics_url = 'https://github.com/topics'\n",
    "    response = requests.get(topics_url)\n",
    "    if response.status_code != 200 :\n",
    "        raise Exception('Failed to load page {}'.format(topic_url))\n",
    "    \n",
    "    topics_dict = {'title': topic_titles,'description': topic_descs,'url': topic_urls}\n",
    "    return pd.DataFrame(topics_dict)\n"
   ]
  },
  {
   "cell_type": "code",
   "execution_count": 355,
   "id": "a33e9319",
   "metadata": {},
   "outputs": [],
   "source": [
    "def scrap_topic_repos():\n",
    "    print(\"Scraping topics repository in csv\")\n",
    "    topic_df = scrape_topics()\n",
    "    for index, row in topic_df.iterrows():\n",
    "        print('Scraping top repositories for '+ row['title'] + ' ' + row['url'])\n",
    "        scrape_topic_content(row['url'], 'Data/{}.csv'.format(row['title']))\n",
    "        "
   ]
  },
  {
   "cell_type": "code",
   "execution_count": 356,
   "id": "84a95272",
   "metadata": {},
   "outputs": [
    {
     "name": "stdout",
     "output_type": "stream",
     "text": [
      "Scraping topics repository in csv\n",
      "Scraping top repositories for 3D https://github.com/topics/3d\n",
      "The file Data/3D.csv already exists. Skipping...\n",
      "Scraping top repositories for Ajax https://github.com/topics/ajax\n",
      "The file Data/Ajax.csv already exists. Skipping...\n",
      "Scraping top repositories for Algorithm https://github.com/topics/algorithm\n",
      "The file Data/Algorithm.csv already exists. Skipping...\n",
      "Scraping top repositories for Amp https://github.com/topics/amphp\n",
      "The file Data/Amp.csv already exists. Skipping...\n",
      "Scraping top repositories for Android https://github.com/topics/android\n",
      "The file Data/Android.csv already exists. Skipping...\n",
      "Scraping top repositories for Angular https://github.com/topics/angular\n",
      "The file Data/Angular.csv already exists. Skipping...\n",
      "Scraping top repositories for Ansible https://github.com/topics/ansible\n",
      "The file Data/Ansible.csv already exists. Skipping...\n",
      "Scraping top repositories for API https://github.com/topics/api\n",
      "The file Data/API.csv already exists. Skipping...\n",
      "Scraping top repositories for Arduino https://github.com/topics/arduino\n",
      "The file Data/Arduino.csv already exists. Skipping...\n",
      "Scraping top repositories for ASP.NET https://github.com/topics/aspnet\n",
      "The file Data/ASP.NET.csv already exists. Skipping...\n",
      "Scraping top repositories for Atom https://github.com/topics/atom\n",
      "The file Data/Atom.csv already exists. Skipping...\n",
      "Scraping top repositories for Awesome Lists https://github.com/topics/awesome\n",
      "The file Data/Awesome Lists.csv already exists. Skipping...\n",
      "Scraping top repositories for Amazon Web Services https://github.com/topics/aws\n",
      "The file Data/Amazon Web Services.csv already exists. Skipping...\n",
      "Scraping top repositories for Azure https://github.com/topics/azure\n",
      "The file Data/Azure.csv already exists. Skipping...\n",
      "Scraping top repositories for Babel https://github.com/topics/babel\n",
      "The file Data/Babel.csv already exists. Skipping...\n",
      "Scraping top repositories for Bash https://github.com/topics/bash\n",
      "The file Data/Bash.csv already exists. Skipping...\n",
      "Scraping top repositories for Bitcoin https://github.com/topics/bitcoin\n",
      "The file Data/Bitcoin.csv already exists. Skipping...\n",
      "Scraping top repositories for Bootstrap https://github.com/topics/bootstrap\n",
      "The file Data/Bootstrap.csv already exists. Skipping...\n",
      "Scraping top repositories for Bot https://github.com/topics/bot\n",
      "The file Data/Bot.csv already exists. Skipping...\n",
      "Scraping top repositories for C https://github.com/topics/c\n",
      "The file Data/C.csv already exists. Skipping...\n",
      "Scraping top repositories for Chrome https://github.com/topics/chrome\n",
      "The file Data/Chrome.csv already exists. Skipping...\n",
      "Scraping top repositories for Chrome extension https://github.com/topics/chrome-extension\n",
      "The file Data/Chrome extension.csv already exists. Skipping...\n",
      "Scraping top repositories for Command line interface https://github.com/topics/cli\n",
      "The file Data/Command line interface.csv already exists. Skipping...\n",
      "Scraping top repositories for Clojure https://github.com/topics/clojure\n",
      "The file Data/Clojure.csv already exists. Skipping...\n",
      "Scraping top repositories for Code quality https://github.com/topics/code-quality\n",
      "The file Data/Code quality.csv already exists. Skipping...\n",
      "Scraping top repositories for Code review https://github.com/topics/code-review\n",
      "The file Data/Code review.csv already exists. Skipping...\n",
      "Scraping top repositories for Compiler https://github.com/topics/compiler\n",
      "The file Data/Compiler.csv already exists. Skipping...\n",
      "Scraping top repositories for Continuous integration https://github.com/topics/continuous-integration\n",
      "The file Data/Continuous integration.csv already exists. Skipping...\n",
      "Scraping top repositories for COVID-19 https://github.com/topics/covid-19\n",
      "The file Data/COVID-19.csv already exists. Skipping...\n",
      "Scraping top repositories for C++ https://github.com/topics/cpp\n",
      "The file Data/C++.csv already exists. Skipping...\n"
     ]
    }
   ],
   "source": [
    "scrap_topic_repos()"
   ]
  },
  {
   "cell_type": "code",
   "execution_count": null,
   "id": "415df5a8",
   "metadata": {},
   "outputs": [],
   "source": []
  }
 ],
 "metadata": {
  "kernelspec": {
   "display_name": "Python 3",
   "language": "python",
   "name": "python3"
  },
  "language_info": {
   "codemirror_mode": {
    "name": "ipython",
    "version": 3
   },
   "file_extension": ".py",
   "mimetype": "text/x-python",
   "name": "python",
   "nbconvert_exporter": "python",
   "pygments_lexer": "ipython3",
   "version": "3.8.8"
  }
 },
 "nbformat": 4,
 "nbformat_minor": 5
}
